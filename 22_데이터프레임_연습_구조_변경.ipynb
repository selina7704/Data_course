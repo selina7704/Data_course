{
 "cells": [
  {
   "cell_type": "markdown",
   "metadata": {
    "colab_type": "text",
    "id": "view-in-github"
   },
   "source": [
    "<a href=\"https://colab.research.google.com/github/zzhining/ml_basic/blob/main/pandas/exercise/%EA%B5%AC%EC%A1%B0_%EB%B3%80%EA%B2%BD.ipynb\" target=\"_parent\"><img src=\"https://colab.research.google.com/assets/colab-badge.svg\" alt=\"Open In Colab\"/></a>"
   ]
  },
  {
   "cell_type": "code",
   "execution_count": 2,
   "metadata": {
    "id": "3zw6qb2cOt_4"
   },
   "outputs": [
    {
     "data": {
      "text/html": [
       "<div>\n",
       "<style scoped>\n",
       "    .dataframe tbody tr th:only-of-type {\n",
       "        vertical-align: middle;\n",
       "    }\n",
       "\n",
       "    .dataframe tbody tr th {\n",
       "        vertical-align: top;\n",
       "    }\n",
       "\n",
       "    .dataframe thead th {\n",
       "        text-align: right;\n",
       "    }\n",
       "</style>\n",
       "<table border=\"1\" class=\"dataframe\">\n",
       "  <thead>\n",
       "    <tr style=\"text-align: right;\">\n",
       "      <th></th>\n",
       "      <th>Date</th>\n",
       "      <th>Company</th>\n",
       "      <th>Close</th>\n",
       "      <th>Volume</th>\n",
       "    </tr>\n",
       "  </thead>\n",
       "  <tbody>\n",
       "    <tr>\n",
       "      <th>0</th>\n",
       "      <td>2024-01-01</td>\n",
       "      <td>A</td>\n",
       "      <td>100</td>\n",
       "      <td>1000</td>\n",
       "    </tr>\n",
       "    <tr>\n",
       "      <th>1</th>\n",
       "      <td>2024-01-01</td>\n",
       "      <td>B</td>\n",
       "      <td>150</td>\n",
       "      <td>1500</td>\n",
       "    </tr>\n",
       "    <tr>\n",
       "      <th>2</th>\n",
       "      <td>2024-01-01</td>\n",
       "      <td>C</td>\n",
       "      <td>200</td>\n",
       "      <td>2000</td>\n",
       "    </tr>\n",
       "    <tr>\n",
       "      <th>3</th>\n",
       "      <td>2024-01-02</td>\n",
       "      <td>A</td>\n",
       "      <td>110</td>\n",
       "      <td>1100</td>\n",
       "    </tr>\n",
       "    <tr>\n",
       "      <th>4</th>\n",
       "      <td>2024-01-02</td>\n",
       "      <td>B</td>\n",
       "      <td>160</td>\n",
       "      <td>1600</td>\n",
       "    </tr>\n",
       "    <tr>\n",
       "      <th>5</th>\n",
       "      <td>2024-01-02</td>\n",
       "      <td>C</td>\n",
       "      <td>210</td>\n",
       "      <td>2100</td>\n",
       "    </tr>\n",
       "    <tr>\n",
       "      <th>6</th>\n",
       "      <td>2024-01-03</td>\n",
       "      <td>A</td>\n",
       "      <td>105</td>\n",
       "      <td>1050</td>\n",
       "    </tr>\n",
       "    <tr>\n",
       "      <th>7</th>\n",
       "      <td>2024-01-03</td>\n",
       "      <td>B</td>\n",
       "      <td>155</td>\n",
       "      <td>1550</td>\n",
       "    </tr>\n",
       "    <tr>\n",
       "      <th>8</th>\n",
       "      <td>2024-01-03</td>\n",
       "      <td>C</td>\n",
       "      <td>205</td>\n",
       "      <td>2050</td>\n",
       "    </tr>\n",
       "    <tr>\n",
       "      <th>9</th>\n",
       "      <td>2024-01-04</td>\n",
       "      <td>A</td>\n",
       "      <td>115</td>\n",
       "      <td>1150</td>\n",
       "    </tr>\n",
       "    <tr>\n",
       "      <th>10</th>\n",
       "      <td>2024-01-04</td>\n",
       "      <td>B</td>\n",
       "      <td>165</td>\n",
       "      <td>1650</td>\n",
       "    </tr>\n",
       "    <tr>\n",
       "      <th>11</th>\n",
       "      <td>2024-01-04</td>\n",
       "      <td>C</td>\n",
       "      <td>215</td>\n",
       "      <td>2150</td>\n",
       "    </tr>\n",
       "  </tbody>\n",
       "</table>\n",
       "</div>"
      ],
      "text/plain": [
       "          Date Company  Close  Volume\n",
       "0   2024-01-01       A    100    1000\n",
       "1   2024-01-01       B    150    1500\n",
       "2   2024-01-01       C    200    2000\n",
       "3   2024-01-02       A    110    1100\n",
       "4   2024-01-02       B    160    1600\n",
       "5   2024-01-02       C    210    2100\n",
       "6   2024-01-03       A    105    1050\n",
       "7   2024-01-03       B    155    1550\n",
       "8   2024-01-03       C    205    2050\n",
       "9   2024-01-04       A    115    1150\n",
       "10  2024-01-04       B    165    1650\n",
       "11  2024-01-04       C    215    2150"
      ]
     },
     "execution_count": 2,
     "metadata": {},
     "output_type": "execute_result"
    }
   ],
   "source": [
    "import pandas as pd\n",
    "\n",
    "data = {\n",
    "    'Date': ['2024-01-01', '2024-01-01', '2024-01-01', '2024-01-02', '2024-01-02', '2024-01-02',\n",
    "            '2024-01-03', '2024-01-03', '2024-01-03', '2024-01-04', '2024-01-04', '2024-01-04'],\n",
    "    'Company': ['A', 'B', 'C', 'A', 'B', 'C', 'A', 'B', 'C', 'A', 'B', 'C'],\n",
    "    'Close': [100, 150, 200, 110, 160, 210, 105, 155, 205, 115, 165, 215],\n",
    "    'Volume': [1000, 1500, 2000, 1100, 1600, 2100, 1050, 1550, 2050, 1150, 1650, 2150]\n",
    "}\n",
    "\n",
    "df = pd.DataFrame(data)\n",
    "df"
   ]
  },
  {
   "cell_type": "markdown",
   "metadata": {
    "id": "H3O1s179Pvv2"
   },
   "source": [
    "1. 각 회사별 평균 종가('Close')를 계산하세요."
   ]
  },
  {
   "cell_type": "code",
   "execution_count": 69,
   "metadata": {
    "id": "ieiGJFgjPvZC"
   },
   "outputs": [],
   "source": [
    "# 답을 작성하세요.\n",
    "answer1 = df.groupby('Company')['Close'].mean()"
   ]
  },
  {
   "cell_type": "code",
   "execution_count": 70,
   "metadata": {
    "id": "NML1h9AXP9vZ"
   },
   "outputs": [
    {
     "name": "stdout",
     "output_type": "stream",
     "text": [
      "Company\n",
      "A    107.5\n",
      "B    157.5\n",
      "C    207.5\n",
      "Name: Close, dtype: float64\n"
     ]
    }
   ],
   "source": [
    "# 테스트\n",
    "print(answer1)"
   ]
  },
  {
   "cell_type": "markdown",
   "metadata": {
    "id": "ZiEHwpetQCfs"
   },
   "source": [
    "2. 각 회사별 전체 기간 동안의 총 거래량('Volume')을 계산하세요."
   ]
  },
  {
   "cell_type": "code",
   "execution_count": 71,
   "metadata": {
    "id": "bkSDMbrzQCQH"
   },
   "outputs": [],
   "source": [
    "# 답을 작성하세요.\n",
    "answer2 =df.groupby('Company')['Volume'].sum()"
   ]
  },
  {
   "cell_type": "code",
   "execution_count": 72,
   "metadata": {
    "id": "Nw5mNT4VQHVP"
   },
   "outputs": [
    {
     "name": "stdout",
     "output_type": "stream",
     "text": [
      "Company\n",
      "A    4300\n",
      "B    6300\n",
      "C    8300\n",
      "Name: Volume, dtype: int64\n"
     ]
    }
   ],
   "source": [
    "# 테스트\n",
    "print(answer2)"
   ]
  },
  {
   "cell_type": "markdown",
   "metadata": {
    "id": "XeKiXdWYQL_r"
   },
   "source": [
    "3. 각 날짜별 총 거래량('Volume')을 계산하세요."
   ]
  },
  {
   "cell_type": "code",
   "execution_count": 73,
   "metadata": {
    "id": "v108ln-LQY4q"
   },
   "outputs": [],
   "source": [
    "# 답을 작성하세요.\n",
    "answer3 = df.groupby('Date')['Volume'].sum()"
   ]
  },
  {
   "cell_type": "code",
   "execution_count": 74,
   "metadata": {
    "id": "G1JmYCvwQaqr"
   },
   "outputs": [
    {
     "name": "stdout",
     "output_type": "stream",
     "text": [
      "Date\n",
      "2024-01-01    4500\n",
      "2024-01-02    4800\n",
      "2024-01-03    4650\n",
      "2024-01-04    4950\n",
      "Name: Volume, dtype: int64\n"
     ]
    }
   ],
   "source": [
    "# 테스트\n",
    "print(answer3)"
   ]
  },
  {
   "cell_type": "markdown",
   "metadata": {
    "id": "MKRqbhEgQkH-"
   },
   "source": [
    "4. 피봇(pivot) 테이블을 사용하여 날짜별 회사의 평균 종가를 계산하세요."
   ]
  },
  {
   "cell_type": "code",
   "execution_count": 79,
   "metadata": {
    "id": "US3IOgI0QwEI"
   },
   "outputs": [
    {
     "data": {
      "text/html": [
       "<div>\n",
       "<style scoped>\n",
       "    .dataframe tbody tr th:only-of-type {\n",
       "        vertical-align: middle;\n",
       "    }\n",
       "\n",
       "    .dataframe tbody tr th {\n",
       "        vertical-align: top;\n",
       "    }\n",
       "\n",
       "    .dataframe thead th {\n",
       "        text-align: right;\n",
       "    }\n",
       "</style>\n",
       "<table border=\"1\" class=\"dataframe\">\n",
       "  <thead>\n",
       "    <tr style=\"text-align: right;\">\n",
       "      <th>Company</th>\n",
       "      <th>A</th>\n",
       "      <th>B</th>\n",
       "      <th>C</th>\n",
       "    </tr>\n",
       "    <tr>\n",
       "      <th>Date</th>\n",
       "      <th></th>\n",
       "      <th></th>\n",
       "      <th></th>\n",
       "    </tr>\n",
       "  </thead>\n",
       "  <tbody>\n",
       "    <tr>\n",
       "      <th>2024-01-01</th>\n",
       "      <td>100.0</td>\n",
       "      <td>150.0</td>\n",
       "      <td>200.0</td>\n",
       "    </tr>\n",
       "    <tr>\n",
       "      <th>2024-01-02</th>\n",
       "      <td>110.0</td>\n",
       "      <td>160.0</td>\n",
       "      <td>210.0</td>\n",
       "    </tr>\n",
       "    <tr>\n",
       "      <th>2024-01-03</th>\n",
       "      <td>105.0</td>\n",
       "      <td>155.0</td>\n",
       "      <td>205.0</td>\n",
       "    </tr>\n",
       "    <tr>\n",
       "      <th>2024-01-04</th>\n",
       "      <td>115.0</td>\n",
       "      <td>165.0</td>\n",
       "      <td>215.0</td>\n",
       "    </tr>\n",
       "  </tbody>\n",
       "</table>\n",
       "</div>"
      ],
      "text/plain": [
       "Company         A      B      C\n",
       "Date                           \n",
       "2024-01-01  100.0  150.0  200.0\n",
       "2024-01-02  110.0  160.0  210.0\n",
       "2024-01-03  105.0  155.0  205.0\n",
       "2024-01-04  115.0  165.0  215.0"
      ]
     },
     "execution_count": 79,
     "metadata": {},
     "output_type": "execute_result"
    }
   ],
   "source": [
    "# 답을 작성하세요.\n",
    "answer4 = df.pivot_table(columns='Company', index='Date', values = 'Close', aggfunc='mean')\n",
    "answer4"
   ]
  },
  {
   "cell_type": "markdown",
   "metadata": {
    "id": "k39MfVUBXmdn"
   },
   "source": [
    "5. 다음 피벗 테이블을 다음과 같은 형태로 복구하세요.\n",
    "\n",
    "|-|Date|Company|Close|\n",
    "|---|---|---|---|\n",
    "|0 |2024-01-01|A|100|\n",
    "|1 |2024-01-02|A|110|\n",
    "|2 |2024-01-03|A|105|\n",
    "|3 |2024-01-04|A|115|\n",
    "|4 |2024-01-01|B|150|\n",
    "|5 |2024-01-02|B|160|\n",
    "|6 |2024-01-03|B|155|\n",
    "|7 |2024-01-04|B|165|\n",
    "|8 |2024-01-01|C|200|\n",
    "|9 |2024-01-02|C|210|\n",
    "|10|2024-01-03|C|205|\n",
    "|11|2024-01-04|C|215|"
   ]
  },
  {
   "cell_type": "code",
   "execution_count": 90,
   "metadata": {},
   "outputs": [
    {
     "data": {
      "text/html": [
       "<div>\n",
       "<style scoped>\n",
       "    .dataframe tbody tr th:only-of-type {\n",
       "        vertical-align: middle;\n",
       "    }\n",
       "\n",
       "    .dataframe tbody tr th {\n",
       "        vertical-align: top;\n",
       "    }\n",
       "\n",
       "    .dataframe thead th {\n",
       "        text-align: right;\n",
       "    }\n",
       "</style>\n",
       "<table border=\"1\" class=\"dataframe\">\n",
       "  <thead>\n",
       "    <tr style=\"text-align: right;\">\n",
       "      <th>Company</th>\n",
       "      <th>Date</th>\n",
       "      <th>A</th>\n",
       "      <th>B</th>\n",
       "      <th>C</th>\n",
       "    </tr>\n",
       "  </thead>\n",
       "  <tbody>\n",
       "    <tr>\n",
       "      <th>0</th>\n",
       "      <td>2024-01-01</td>\n",
       "      <td>100.0</td>\n",
       "      <td>150.0</td>\n",
       "      <td>200.0</td>\n",
       "    </tr>\n",
       "    <tr>\n",
       "      <th>1</th>\n",
       "      <td>2024-01-02</td>\n",
       "      <td>110.0</td>\n",
       "      <td>160.0</td>\n",
       "      <td>210.0</td>\n",
       "    </tr>\n",
       "    <tr>\n",
       "      <th>2</th>\n",
       "      <td>2024-01-03</td>\n",
       "      <td>105.0</td>\n",
       "      <td>155.0</td>\n",
       "      <td>205.0</td>\n",
       "    </tr>\n",
       "    <tr>\n",
       "      <th>3</th>\n",
       "      <td>2024-01-04</td>\n",
       "      <td>115.0</td>\n",
       "      <td>165.0</td>\n",
       "      <td>215.0</td>\n",
       "    </tr>\n",
       "  </tbody>\n",
       "</table>\n",
       "</div>"
      ],
      "text/plain": [
       "Company        Date      A      B      C\n",
       "0        2024-01-01  100.0  150.0  200.0\n",
       "1        2024-01-02  110.0  160.0  210.0\n",
       "2        2024-01-03  105.0  155.0  205.0\n",
       "3        2024-01-04  115.0  165.0  215.0"
      ]
     },
     "execution_count": 90,
     "metadata": {},
     "output_type": "execute_result"
    }
   ],
   "source": [
    "answer4.reset_index(inplace=True)\n",
    "answer4"
   ]
  },
  {
   "cell_type": "code",
   "execution_count": 91,
   "metadata": {
    "id": "dM23Esf8XspD"
   },
   "outputs": [
    {
     "data": {
      "text/html": [
       "<div>\n",
       "<style scoped>\n",
       "    .dataframe tbody tr th:only-of-type {\n",
       "        vertical-align: middle;\n",
       "    }\n",
       "\n",
       "    .dataframe tbody tr th {\n",
       "        vertical-align: top;\n",
       "    }\n",
       "\n",
       "    .dataframe thead th {\n",
       "        text-align: right;\n",
       "    }\n",
       "</style>\n",
       "<table border=\"1\" class=\"dataframe\">\n",
       "  <thead>\n",
       "    <tr style=\"text-align: right;\">\n",
       "      <th></th>\n",
       "      <th>Date</th>\n",
       "      <th>Company</th>\n",
       "      <th>Close</th>\n",
       "    </tr>\n",
       "  </thead>\n",
       "  <tbody>\n",
       "    <tr>\n",
       "      <th>0</th>\n",
       "      <td>2024-01-01</td>\n",
       "      <td>A</td>\n",
       "      <td>100.0</td>\n",
       "    </tr>\n",
       "    <tr>\n",
       "      <th>1</th>\n",
       "      <td>2024-01-02</td>\n",
       "      <td>A</td>\n",
       "      <td>110.0</td>\n",
       "    </tr>\n",
       "    <tr>\n",
       "      <th>2</th>\n",
       "      <td>2024-01-03</td>\n",
       "      <td>A</td>\n",
       "      <td>105.0</td>\n",
       "    </tr>\n",
       "    <tr>\n",
       "      <th>3</th>\n",
       "      <td>2024-01-04</td>\n",
       "      <td>A</td>\n",
       "      <td>115.0</td>\n",
       "    </tr>\n",
       "    <tr>\n",
       "      <th>4</th>\n",
       "      <td>2024-01-01</td>\n",
       "      <td>B</td>\n",
       "      <td>150.0</td>\n",
       "    </tr>\n",
       "    <tr>\n",
       "      <th>5</th>\n",
       "      <td>2024-01-02</td>\n",
       "      <td>B</td>\n",
       "      <td>160.0</td>\n",
       "    </tr>\n",
       "    <tr>\n",
       "      <th>6</th>\n",
       "      <td>2024-01-03</td>\n",
       "      <td>B</td>\n",
       "      <td>155.0</td>\n",
       "    </tr>\n",
       "    <tr>\n",
       "      <th>7</th>\n",
       "      <td>2024-01-04</td>\n",
       "      <td>B</td>\n",
       "      <td>165.0</td>\n",
       "    </tr>\n",
       "    <tr>\n",
       "      <th>8</th>\n",
       "      <td>2024-01-01</td>\n",
       "      <td>C</td>\n",
       "      <td>200.0</td>\n",
       "    </tr>\n",
       "    <tr>\n",
       "      <th>9</th>\n",
       "      <td>2024-01-02</td>\n",
       "      <td>C</td>\n",
       "      <td>210.0</td>\n",
       "    </tr>\n",
       "    <tr>\n",
       "      <th>10</th>\n",
       "      <td>2024-01-03</td>\n",
       "      <td>C</td>\n",
       "      <td>205.0</td>\n",
       "    </tr>\n",
       "    <tr>\n",
       "      <th>11</th>\n",
       "      <td>2024-01-04</td>\n",
       "      <td>C</td>\n",
       "      <td>215.0</td>\n",
       "    </tr>\n",
       "  </tbody>\n",
       "</table>\n",
       "</div>"
      ],
      "text/plain": [
       "          Date Company  Close\n",
       "0   2024-01-01       A  100.0\n",
       "1   2024-01-02       A  110.0\n",
       "2   2024-01-03       A  105.0\n",
       "3   2024-01-04       A  115.0\n",
       "4   2024-01-01       B  150.0\n",
       "5   2024-01-02       B  160.0\n",
       "6   2024-01-03       B  155.0\n",
       "7   2024-01-04       B  165.0\n",
       "8   2024-01-01       C  200.0\n",
       "9   2024-01-02       C  210.0\n",
       "10  2024-01-03       C  205.0\n",
       "11  2024-01-04       C  215.0"
      ]
     },
     "execution_count": 91,
     "metadata": {},
     "output_type": "execute_result"
    }
   ],
   "source": [
    "# 답을 작성하세요.\n",
    "\n",
    "answer5 = answer4.melt(id_vars='Date', var_name='Company', value_name='Close')\n",
    "answer5"
   ]
  },
  {
   "cell_type": "markdown",
   "metadata": {
    "id": "nxExSBTMQ3Me"
   },
   "source": [
    "6. 각 회사별 일별 종가 변동(최대 종가 - 최소 종가)을 계산하세요."
   ]
  },
  {
   "cell_type": "code",
   "execution_count": 98,
   "metadata": {},
   "outputs": [],
   "source": [
    "import numpy as np"
   ]
  },
  {
   "cell_type": "code",
   "execution_count": 113,
   "metadata": {
    "id": "haivw8KfQ26W"
   },
   "outputs": [
    {
     "name": "stderr",
     "output_type": "stream",
     "text": [
      "C:\\Users\\selina\\AppData\\Local\\Temp\\ipykernel_20548\\3491499530.py:2: FutureWarning: The provided callable <function max at 0x000001BD1E24C360> is currently using SeriesGroupBy.max. In a future version of pandas, the provided callable will be used directly. To keep current behavior pass the string \"max\" instead.\n",
      "  answer6 = df.groupby(['Company','Date'])['Close'].agg([np.max, np.min])\n",
      "C:\\Users\\selina\\AppData\\Local\\Temp\\ipykernel_20548\\3491499530.py:2: FutureWarning: The provided callable <function min at 0x000001BD1E24C4A0> is currently using SeriesGroupBy.min. In a future version of pandas, the provided callable will be used directly. To keep current behavior pass the string \"min\" instead.\n",
      "  answer6 = df.groupby(['Company','Date'])['Close'].agg([np.max, np.min])\n"
     ]
    },
    {
     "data": {
      "text/html": [
       "<div>\n",
       "<style scoped>\n",
       "    .dataframe tbody tr th:only-of-type {\n",
       "        vertical-align: middle;\n",
       "    }\n",
       "\n",
       "    .dataframe tbody tr th {\n",
       "        vertical-align: top;\n",
       "    }\n",
       "\n",
       "    .dataframe thead th {\n",
       "        text-align: right;\n",
       "    }\n",
       "</style>\n",
       "<table border=\"1\" class=\"dataframe\">\n",
       "  <thead>\n",
       "    <tr style=\"text-align: right;\">\n",
       "      <th></th>\n",
       "      <th></th>\n",
       "      <th>max</th>\n",
       "      <th>min</th>\n",
       "      <th>Variance</th>\n",
       "    </tr>\n",
       "    <tr>\n",
       "      <th>Company</th>\n",
       "      <th>Date</th>\n",
       "      <th></th>\n",
       "      <th></th>\n",
       "      <th></th>\n",
       "    </tr>\n",
       "  </thead>\n",
       "  <tbody>\n",
       "    <tr>\n",
       "      <th rowspan=\"4\" valign=\"top\">A</th>\n",
       "      <th>2024-01-01</th>\n",
       "      <td>100</td>\n",
       "      <td>100</td>\n",
       "      <td>0</td>\n",
       "    </tr>\n",
       "    <tr>\n",
       "      <th>2024-01-02</th>\n",
       "      <td>110</td>\n",
       "      <td>110</td>\n",
       "      <td>0</td>\n",
       "    </tr>\n",
       "    <tr>\n",
       "      <th>2024-01-03</th>\n",
       "      <td>105</td>\n",
       "      <td>105</td>\n",
       "      <td>0</td>\n",
       "    </tr>\n",
       "    <tr>\n",
       "      <th>2024-01-04</th>\n",
       "      <td>115</td>\n",
       "      <td>115</td>\n",
       "      <td>0</td>\n",
       "    </tr>\n",
       "    <tr>\n",
       "      <th rowspan=\"4\" valign=\"top\">B</th>\n",
       "      <th>2024-01-01</th>\n",
       "      <td>150</td>\n",
       "      <td>150</td>\n",
       "      <td>0</td>\n",
       "    </tr>\n",
       "    <tr>\n",
       "      <th>2024-01-02</th>\n",
       "      <td>160</td>\n",
       "      <td>160</td>\n",
       "      <td>0</td>\n",
       "    </tr>\n",
       "    <tr>\n",
       "      <th>2024-01-03</th>\n",
       "      <td>155</td>\n",
       "      <td>155</td>\n",
       "      <td>0</td>\n",
       "    </tr>\n",
       "    <tr>\n",
       "      <th>2024-01-04</th>\n",
       "      <td>165</td>\n",
       "      <td>165</td>\n",
       "      <td>0</td>\n",
       "    </tr>\n",
       "    <tr>\n",
       "      <th rowspan=\"4\" valign=\"top\">C</th>\n",
       "      <th>2024-01-01</th>\n",
       "      <td>200</td>\n",
       "      <td>200</td>\n",
       "      <td>0</td>\n",
       "    </tr>\n",
       "    <tr>\n",
       "      <th>2024-01-02</th>\n",
       "      <td>210</td>\n",
       "      <td>210</td>\n",
       "      <td>0</td>\n",
       "    </tr>\n",
       "    <tr>\n",
       "      <th>2024-01-03</th>\n",
       "      <td>205</td>\n",
       "      <td>205</td>\n",
       "      <td>0</td>\n",
       "    </tr>\n",
       "    <tr>\n",
       "      <th>2024-01-04</th>\n",
       "      <td>215</td>\n",
       "      <td>215</td>\n",
       "      <td>0</td>\n",
       "    </tr>\n",
       "  </tbody>\n",
       "</table>\n",
       "</div>"
      ],
      "text/plain": [
       "                    max  min  Variance\n",
       "Company Date                          \n",
       "A       2024-01-01  100  100         0\n",
       "        2024-01-02  110  110         0\n",
       "        2024-01-03  105  105         0\n",
       "        2024-01-04  115  115         0\n",
       "B       2024-01-01  150  150         0\n",
       "        2024-01-02  160  160         0\n",
       "        2024-01-03  155  155         0\n",
       "        2024-01-04  165  165         0\n",
       "C       2024-01-01  200  200         0\n",
       "        2024-01-02  210  210         0\n",
       "        2024-01-03  205  205         0\n",
       "        2024-01-04  215  215         0"
      ]
     },
     "execution_count": 113,
     "metadata": {},
     "output_type": "execute_result"
    }
   ],
   "source": [
    "# 답을 작성하세요.\n",
    "answer6 = df.groupby(['Company','Date'])['Close'].agg([np.max, np.min])\n",
    "answer6['Variance'] = answer6['max'] - answer6['min']\n",
    "answer6"
   ]
  },
  {
   "cell_type": "markdown",
   "metadata": {
    "id": "WNOp2aGKRLad"
   },
   "source": [
    "7. 각 회사별 거래량 합계가 5000 이상인 회사만 선택하세요."
   ]
  },
  {
   "cell_type": "code",
   "execution_count": 128,
   "metadata": {
    "id": "aAqo0wFsROnI"
   },
   "outputs": [
    {
     "data": {
      "text/plain": [
       "Company\n",
       "A    4300\n",
       "B    6300\n",
       "C    8300\n",
       "Name: Volume, dtype: int64"
      ]
     },
     "execution_count": 128,
     "metadata": {},
     "output_type": "execute_result"
    }
   ],
   "source": [
    "# 답을 작성하세요.\n",
    "answer7 =df.groupby('Company')['Volume'].sum() \n",
    "answer7[answer7>=5000]\n",
    "answer7"
   ]
  }
 ],
 "metadata": {
  "colab": {
   "include_colab_link": true,
   "provenance": []
  },
  "kernelspec": {
   "display_name": "Python 3 (ipykernel)",
   "language": "python",
   "name": "python3"
  },
  "language_info": {
   "codemirror_mode": {
    "name": "ipython",
    "version": 3
   },
   "file_extension": ".py",
   "mimetype": "text/x-python",
   "name": "python",
   "nbconvert_exporter": "python",
   "pygments_lexer": "ipython3",
   "version": "3.12.7"
  }
 },
 "nbformat": 4,
 "nbformat_minor": 4
}
