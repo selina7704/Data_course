{
 "cells": [
  {
   "cell_type": "markdown",
   "metadata": {
    "colab_type": "text",
    "id": "view-in-github"
   },
   "source": [
    "<a href=\"https://colab.research.google.com/github/zzhining/ml_basic/blob/main/pandas/exercise/%EC%83%9D%EC%84%B1_%EB%B0%8F_%ED%83%90%EC%83%89.ipynb\" target=\"_parent\"><img src=\"https://colab.research.google.com/assets/colab-badge.svg\" alt=\"Open In Colab\"/></a>"
   ]
  },
  {
   "cell_type": "markdown",
   "metadata": {
    "id": "EUdB4MCjmjC-"
   },
   "source": [
    "주어진 주가 데이터를 이용해 데이터프레임을 만들고, 다양한 요약 통계를 계산하는 파이썬 코드를 작성하세요. 주가 데이터는 주식의 날짜, 종가(Close), 최고가(High), 최저가(Low), 거래량(Volume)이 있습니다."
   ]
  },
  {
   "cell_type": "markdown",
   "metadata": {
    "id": "FYvl-tDkky_8"
   },
   "source": [
    "|Date|Close|High|Low|Volume|\n",
    "|---|---|---|---|---|\n",
    "|2024-06-01|150|155|148|3500000|\n",
    "|2024-06-02|152|156|149|3200000|\n",
    "|2024-06-03|149|153|147|4000000|\n",
    "|2024-06-04|153|157|150|3700000|\n",
    "|2024-06-05|151|154|148|3800000|"
   ]
  },
  {
   "cell_type": "markdown",
   "metadata": {
    "id": "n1xxc2n4lpqK"
   },
   "source": [
    "1. 위 데이터를 포함하는 데이터프레임을 생성하세요"
   ]
  },
  {
   "cell_type": "code",
   "execution_count": 12,
   "metadata": {
    "id": "skbIOBMamyf3"
   },
   "outputs": [],
   "source": [
    "#답을 작성하세요.\n",
    "import pandas as pd\n",
    "data = { 'Date':[\"2024-06-01\", \"2024-06-02\", \"2024-06-03\", \"2024-06-04\", \"2024-06-05\"],\n",
    "           'Close':[150, 152, 149, 153, 151],\n",
    "            'High': [155, 156, 153, 157, 154],\n",
    "            'Low':[148, 149, 147, 150, 148],\n",
    "            'Volume': [3500000, 3200000, 4000000, 3700000, 3800000]\n",
    "    \n",
    "}\n"
   ]
  },
  {
   "cell_type": "code",
   "execution_count": 15,
   "metadata": {
    "id": "QR7wBFUqo2LZ"
   },
   "outputs": [
    {
     "data": {
      "text/html": [
       "<div>\n",
       "<style scoped>\n",
       "    .dataframe tbody tr th:only-of-type {\n",
       "        vertical-align: middle;\n",
       "    }\n",
       "\n",
       "    .dataframe tbody tr th {\n",
       "        vertical-align: top;\n",
       "    }\n",
       "\n",
       "    .dataframe thead th {\n",
       "        text-align: right;\n",
       "    }\n",
       "</style>\n",
       "<table border=\"1\" class=\"dataframe\">\n",
       "  <thead>\n",
       "    <tr style=\"text-align: right;\">\n",
       "      <th></th>\n",
       "      <th>Date</th>\n",
       "      <th>Close</th>\n",
       "      <th>High</th>\n",
       "      <th>Low</th>\n",
       "      <th>Volume</th>\n",
       "    </tr>\n",
       "  </thead>\n",
       "  <tbody>\n",
       "    <tr>\n",
       "      <th>0</th>\n",
       "      <td>2024-06-01</td>\n",
       "      <td>150</td>\n",
       "      <td>155</td>\n",
       "      <td>148</td>\n",
       "      <td>3500000</td>\n",
       "    </tr>\n",
       "    <tr>\n",
       "      <th>1</th>\n",
       "      <td>2024-06-02</td>\n",
       "      <td>152</td>\n",
       "      <td>156</td>\n",
       "      <td>149</td>\n",
       "      <td>3200000</td>\n",
       "    </tr>\n",
       "    <tr>\n",
       "      <th>2</th>\n",
       "      <td>2024-06-03</td>\n",
       "      <td>149</td>\n",
       "      <td>153</td>\n",
       "      <td>147</td>\n",
       "      <td>4000000</td>\n",
       "    </tr>\n",
       "    <tr>\n",
       "      <th>3</th>\n",
       "      <td>2024-06-04</td>\n",
       "      <td>153</td>\n",
       "      <td>157</td>\n",
       "      <td>150</td>\n",
       "      <td>3700000</td>\n",
       "    </tr>\n",
       "    <tr>\n",
       "      <th>4</th>\n",
       "      <td>2024-06-05</td>\n",
       "      <td>151</td>\n",
       "      <td>154</td>\n",
       "      <td>148</td>\n",
       "      <td>3800000</td>\n",
       "    </tr>\n",
       "  </tbody>\n",
       "</table>\n",
       "</div>"
      ],
      "text/plain": [
       "         Date  Close  High  Low   Volume\n",
       "0  2024-06-01    150   155  148  3500000\n",
       "1  2024-06-02    152   156  149  3200000\n",
       "2  2024-06-03    149   153  147  4000000\n",
       "3  2024-06-04    153   157  150  3700000\n",
       "4  2024-06-05    151   154  148  3800000"
      ]
     },
     "execution_count": 15,
     "metadata": {},
     "output_type": "execute_result"
    }
   ],
   "source": [
    "# 테스트\n",
    "answer1 = pd.DataFrame(data)\n",
    "answer1"
   ]
  },
  {
   "cell_type": "markdown",
   "metadata": {
    "id": "I0P0Pwf_m09H"
   },
   "source": [
    "2. 각 열(column)의 요약 통계를 계산하세요."
   ]
  },
  {
   "cell_type": "code",
   "execution_count": 23,
   "metadata": {
    "id": "HIm0guS9kIJH"
   },
   "outputs": [],
   "source": [
    "#답을 작성하세요.\n",
    "answer2 = answer1.describe()"
   ]
  },
  {
   "cell_type": "code",
   "execution_count": 24,
   "metadata": {
    "id": "jHk9QVxno7ip"
   },
   "outputs": [
    {
     "data": {
      "text/html": [
       "<div>\n",
       "<style scoped>\n",
       "    .dataframe tbody tr th:only-of-type {\n",
       "        vertical-align: middle;\n",
       "    }\n",
       "\n",
       "    .dataframe tbody tr th {\n",
       "        vertical-align: top;\n",
       "    }\n",
       "\n",
       "    .dataframe thead th {\n",
       "        text-align: right;\n",
       "    }\n",
       "</style>\n",
       "<table border=\"1\" class=\"dataframe\">\n",
       "  <thead>\n",
       "    <tr style=\"text-align: right;\">\n",
       "      <th></th>\n",
       "      <th>Close</th>\n",
       "      <th>High</th>\n",
       "      <th>Low</th>\n",
       "      <th>Volume</th>\n",
       "    </tr>\n",
       "  </thead>\n",
       "  <tbody>\n",
       "    <tr>\n",
       "      <th>count</th>\n",
       "      <td>5.000000</td>\n",
       "      <td>5.000000</td>\n",
       "      <td>5.000000</td>\n",
       "      <td>5.000000e+00</td>\n",
       "    </tr>\n",
       "    <tr>\n",
       "      <th>mean</th>\n",
       "      <td>151.000000</td>\n",
       "      <td>155.000000</td>\n",
       "      <td>148.400000</td>\n",
       "      <td>3.640000e+06</td>\n",
       "    </tr>\n",
       "    <tr>\n",
       "      <th>std</th>\n",
       "      <td>1.581139</td>\n",
       "      <td>1.581139</td>\n",
       "      <td>1.140175</td>\n",
       "      <td>3.049590e+05</td>\n",
       "    </tr>\n",
       "    <tr>\n",
       "      <th>min</th>\n",
       "      <td>149.000000</td>\n",
       "      <td>153.000000</td>\n",
       "      <td>147.000000</td>\n",
       "      <td>3.200000e+06</td>\n",
       "    </tr>\n",
       "    <tr>\n",
       "      <th>25%</th>\n",
       "      <td>150.000000</td>\n",
       "      <td>154.000000</td>\n",
       "      <td>148.000000</td>\n",
       "      <td>3.500000e+06</td>\n",
       "    </tr>\n",
       "    <tr>\n",
       "      <th>50%</th>\n",
       "      <td>151.000000</td>\n",
       "      <td>155.000000</td>\n",
       "      <td>148.000000</td>\n",
       "      <td>3.700000e+06</td>\n",
       "    </tr>\n",
       "    <tr>\n",
       "      <th>75%</th>\n",
       "      <td>152.000000</td>\n",
       "      <td>156.000000</td>\n",
       "      <td>149.000000</td>\n",
       "      <td>3.800000e+06</td>\n",
       "    </tr>\n",
       "    <tr>\n",
       "      <th>max</th>\n",
       "      <td>153.000000</td>\n",
       "      <td>157.000000</td>\n",
       "      <td>150.000000</td>\n",
       "      <td>4.000000e+06</td>\n",
       "    </tr>\n",
       "  </tbody>\n",
       "</table>\n",
       "</div>"
      ],
      "text/plain": [
       "            Close        High         Low        Volume\n",
       "count    5.000000    5.000000    5.000000  5.000000e+00\n",
       "mean   151.000000  155.000000  148.400000  3.640000e+06\n",
       "std      1.581139    1.581139    1.140175  3.049590e+05\n",
       "min    149.000000  153.000000  147.000000  3.200000e+06\n",
       "25%    150.000000  154.000000  148.000000  3.500000e+06\n",
       "50%    151.000000  155.000000  148.000000  3.700000e+06\n",
       "75%    152.000000  156.000000  149.000000  3.800000e+06\n",
       "max    153.000000  157.000000  150.000000  4.000000e+06"
      ]
     },
     "execution_count": 24,
     "metadata": {},
     "output_type": "execute_result"
    }
   ],
   "source": [
    "# 테스트\n",
    "answer2"
   ]
  },
  {
   "cell_type": "markdown",
   "metadata": {
    "id": "ml9545Azm-bx"
   },
   "source": [
    "3. 종가의 평균값을 구하세요."
   ]
  },
  {
   "cell_type": "code",
   "execution_count": 40,
   "metadata": {
    "id": "pEChBxV-nC78"
   },
   "outputs": [],
   "source": [
    "#답을 작성하세요.\n",
    "answer3 = answer1['Close'].mean()"
   ]
  },
  {
   "cell_type": "code",
   "execution_count": 41,
   "metadata": {
    "id": "99hyc2Aqo8DJ"
   },
   "outputs": [
    {
     "data": {
      "text/plain": [
       "151.0"
      ]
     },
     "execution_count": 41,
     "metadata": {},
     "output_type": "execute_result"
    }
   ],
   "source": [
    "# 테스트\n",
    "answer3"
   ]
  },
  {
   "cell_type": "markdown",
   "metadata": {
    "id": "Wxa3HeaYnDVD"
   },
   "source": [
    "4. 최고가의 최대값을 구하세요."
   ]
  },
  {
   "cell_type": "code",
   "execution_count": 42,
   "metadata": {
    "id": "Yb4wi7hinFdn"
   },
   "outputs": [],
   "source": [
    "#답을 작성하세요.\n",
    "answer4 = answer1['High'].max()"
   ]
  },
  {
   "cell_type": "code",
   "execution_count": 43,
   "metadata": {
    "id": "kTg2LUxao8i6"
   },
   "outputs": [
    {
     "name": "stdout",
     "output_type": "stream",
     "text": [
      "157\n"
     ]
    }
   ],
   "source": [
    "# 테스트\n",
    "print(answer4)"
   ]
  },
  {
   "cell_type": "markdown",
   "metadata": {
    "id": "5910exn3nMQS"
   },
   "source": [
    "5. 최저가의 최소값을 구하세요."
   ]
  },
  {
   "cell_type": "code",
   "execution_count": 44,
   "metadata": {
    "id": "r-_OQWaTnbt7"
   },
   "outputs": [],
   "source": [
    "#답을 작성하세요.\n",
    "answer5 =answer1['Low'].min()"
   ]
  },
  {
   "cell_type": "code",
   "execution_count": 45,
   "metadata": {
    "id": "TLYpuolio9Hw"
   },
   "outputs": [
    {
     "name": "stdout",
     "output_type": "stream",
     "text": [
      "147\n"
     ]
    }
   ],
   "source": [
    "# 테스트\n",
    "print(answer5)"
   ]
  },
  {
   "cell_type": "markdown",
   "metadata": {
    "id": "4AK4iSCinjB7"
   },
   "source": [
    "6. 거래량의 총합을 구하세요."
   ]
  },
  {
   "cell_type": "code",
   "execution_count": 46,
   "metadata": {
    "id": "F3ELY2yInong"
   },
   "outputs": [],
   "source": [
    "#답을 작성하세요.\n",
    "answer6 = answer1['Volume'].sum()"
   ]
  },
  {
   "cell_type": "code",
   "execution_count": 47,
   "metadata": {
    "id": "CdbP9kE4o9rM"
   },
   "outputs": [
    {
     "name": "stdout",
     "output_type": "stream",
     "text": [
      "18200000\n"
     ]
    }
   ],
   "source": [
    "# 테스트\n",
    "print(answer6)"
   ]
  },
  {
   "cell_type": "markdown",
   "metadata": {
    "id": "LRbbpSqwnul5"
   },
   "source": [
    "7. 데이터프레임의 전체 요약 통계를 출력하세요."
   ]
  },
  {
   "cell_type": "code",
   "execution_count": 48,
   "metadata": {
    "id": "Qe0YOw-Dnx09"
   },
   "outputs": [],
   "source": [
    "#답을 작성하세요.\n",
    "answer7 = answer1.describe()"
   ]
  },
  {
   "cell_type": "code",
   "execution_count": 50,
   "metadata": {
    "id": "1cbc6f0Bo-G4"
   },
   "outputs": [
    {
     "data": {
      "text/html": [
       "<div>\n",
       "<style scoped>\n",
       "    .dataframe tbody tr th:only-of-type {\n",
       "        vertical-align: middle;\n",
       "    }\n",
       "\n",
       "    .dataframe tbody tr th {\n",
       "        vertical-align: top;\n",
       "    }\n",
       "\n",
       "    .dataframe thead th {\n",
       "        text-align: right;\n",
       "    }\n",
       "</style>\n",
       "<table border=\"1\" class=\"dataframe\">\n",
       "  <thead>\n",
       "    <tr style=\"text-align: right;\">\n",
       "      <th></th>\n",
       "      <th>Close</th>\n",
       "      <th>High</th>\n",
       "      <th>Low</th>\n",
       "      <th>Volume</th>\n",
       "    </tr>\n",
       "  </thead>\n",
       "  <tbody>\n",
       "    <tr>\n",
       "      <th>count</th>\n",
       "      <td>5.000000</td>\n",
       "      <td>5.000000</td>\n",
       "      <td>5.000000</td>\n",
       "      <td>5.000000e+00</td>\n",
       "    </tr>\n",
       "    <tr>\n",
       "      <th>mean</th>\n",
       "      <td>151.000000</td>\n",
       "      <td>155.000000</td>\n",
       "      <td>148.400000</td>\n",
       "      <td>3.640000e+06</td>\n",
       "    </tr>\n",
       "    <tr>\n",
       "      <th>std</th>\n",
       "      <td>1.581139</td>\n",
       "      <td>1.581139</td>\n",
       "      <td>1.140175</td>\n",
       "      <td>3.049590e+05</td>\n",
       "    </tr>\n",
       "    <tr>\n",
       "      <th>min</th>\n",
       "      <td>149.000000</td>\n",
       "      <td>153.000000</td>\n",
       "      <td>147.000000</td>\n",
       "      <td>3.200000e+06</td>\n",
       "    </tr>\n",
       "    <tr>\n",
       "      <th>25%</th>\n",
       "      <td>150.000000</td>\n",
       "      <td>154.000000</td>\n",
       "      <td>148.000000</td>\n",
       "      <td>3.500000e+06</td>\n",
       "    </tr>\n",
       "    <tr>\n",
       "      <th>50%</th>\n",
       "      <td>151.000000</td>\n",
       "      <td>155.000000</td>\n",
       "      <td>148.000000</td>\n",
       "      <td>3.700000e+06</td>\n",
       "    </tr>\n",
       "    <tr>\n",
       "      <th>75%</th>\n",
       "      <td>152.000000</td>\n",
       "      <td>156.000000</td>\n",
       "      <td>149.000000</td>\n",
       "      <td>3.800000e+06</td>\n",
       "    </tr>\n",
       "    <tr>\n",
       "      <th>max</th>\n",
       "      <td>153.000000</td>\n",
       "      <td>157.000000</td>\n",
       "      <td>150.000000</td>\n",
       "      <td>4.000000e+06</td>\n",
       "    </tr>\n",
       "  </tbody>\n",
       "</table>\n",
       "</div>"
      ],
      "text/plain": [
       "            Close        High         Low        Volume\n",
       "count    5.000000    5.000000    5.000000  5.000000e+00\n",
       "mean   151.000000  155.000000  148.400000  3.640000e+06\n",
       "std      1.581139    1.581139    1.140175  3.049590e+05\n",
       "min    149.000000  153.000000  147.000000  3.200000e+06\n",
       "25%    150.000000  154.000000  148.000000  3.500000e+06\n",
       "50%    151.000000  155.000000  148.000000  3.700000e+06\n",
       "75%    152.000000  156.000000  149.000000  3.800000e+06\n",
       "max    153.000000  157.000000  150.000000  4.000000e+06"
      ]
     },
     "execution_count": 50,
     "metadata": {},
     "output_type": "execute_result"
    }
   ],
   "source": [
    "# 테스트\n",
    "answer7"
   ]
  },
  {
   "cell_type": "markdown",
   "metadata": {
    "id": "wr2YJa50oOhn"
   },
   "source": [
    "8. 종가의 값이 150 이상인 행(row)들을 출력하세요."
   ]
  },
  {
   "cell_type": "code",
   "execution_count": 55,
   "metadata": {
    "id": "DS06M-VloT_V"
   },
   "outputs": [],
   "source": [
    "#답을 작성하세요.\n",
    "answer8 = answer1[answer1['Close']>=150]"
   ]
  },
  {
   "cell_type": "code",
   "execution_count": 56,
   "metadata": {
    "id": "-mSHRwPjo-k2"
   },
   "outputs": [
    {
     "name": "stdout",
     "output_type": "stream",
     "text": [
      "         Date  Close  High  Low   Volume\n",
      "0  2024-06-01    150   155  148  3500000\n",
      "1  2024-06-02    152   156  149  3200000\n",
      "3  2024-06-04    153   157  150  3700000\n",
      "4  2024-06-05    151   154  148  3800000\n"
     ]
    }
   ],
   "source": [
    "# 테스트\n",
    "print(answer8)"
   ]
  },
  {
   "cell_type": "markdown",
   "metadata": {
    "id": "FcbFppvdoVCG"
   },
   "source": [
    "9. 거래량의 값이 3600000 이상인 행(row)들의 날짜(Date)를 출력하세요."
   ]
  },
  {
   "cell_type": "code",
   "execution_count": 62,
   "metadata": {
    "id": "B76sdHZLocXh"
   },
   "outputs": [],
   "source": [
    "#답을 작성하세요.\n",
    "answer9 = answer1[answer1['Volume']<3600000]['Date']"
   ]
  },
  {
   "cell_type": "code",
   "execution_count": 63,
   "metadata": {
    "id": "Fq6Dn3MOo_Ee"
   },
   "outputs": [
    {
     "data": {
      "text/plain": [
       "0    2024-06-01\n",
       "1    2024-06-02\n",
       "Name: Date, dtype: object"
      ]
     },
     "execution_count": 63,
     "metadata": {},
     "output_type": "execute_result"
    }
   ],
   "source": [
    "# 테스트\n",
    "answer9"
   ]
  },
  {
   "cell_type": "markdown",
   "metadata": {
    "id": "o9YA_f7ZpN2-"
   },
   "source": [
    "@. 최고가와 최저가의 차이(최고가-최저가)를 나타내는 새로운 열 diff 를 만드세요."
   ]
  },
  {
   "cell_type": "code",
   "execution_count": 64,
   "metadata": {
    "id": "NUxCVVZRpz3W"
   },
   "outputs": [],
   "source": [
    "#답을 작성하세요.\n",
    "answer1['diff'] = answer1['High'] - answer1['Low']"
   ]
  },
  {
   "cell_type": "code",
   "execution_count": 65,
   "metadata": {},
   "outputs": [
    {
     "data": {
      "text/html": [
       "<div>\n",
       "<style scoped>\n",
       "    .dataframe tbody tr th:only-of-type {\n",
       "        vertical-align: middle;\n",
       "    }\n",
       "\n",
       "    .dataframe tbody tr th {\n",
       "        vertical-align: top;\n",
       "    }\n",
       "\n",
       "    .dataframe thead th {\n",
       "        text-align: right;\n",
       "    }\n",
       "</style>\n",
       "<table border=\"1\" class=\"dataframe\">\n",
       "  <thead>\n",
       "    <tr style=\"text-align: right;\">\n",
       "      <th></th>\n",
       "      <th>Date</th>\n",
       "      <th>Close</th>\n",
       "      <th>High</th>\n",
       "      <th>Low</th>\n",
       "      <th>Volume</th>\n",
       "      <th>diff</th>\n",
       "    </tr>\n",
       "  </thead>\n",
       "  <tbody>\n",
       "    <tr>\n",
       "      <th>0</th>\n",
       "      <td>2024-06-01</td>\n",
       "      <td>150</td>\n",
       "      <td>155</td>\n",
       "      <td>148</td>\n",
       "      <td>3500000</td>\n",
       "      <td>7</td>\n",
       "    </tr>\n",
       "    <tr>\n",
       "      <th>1</th>\n",
       "      <td>2024-06-02</td>\n",
       "      <td>152</td>\n",
       "      <td>156</td>\n",
       "      <td>149</td>\n",
       "      <td>3200000</td>\n",
       "      <td>7</td>\n",
       "    </tr>\n",
       "    <tr>\n",
       "      <th>2</th>\n",
       "      <td>2024-06-03</td>\n",
       "      <td>149</td>\n",
       "      <td>153</td>\n",
       "      <td>147</td>\n",
       "      <td>4000000</td>\n",
       "      <td>6</td>\n",
       "    </tr>\n",
       "    <tr>\n",
       "      <th>3</th>\n",
       "      <td>2024-06-04</td>\n",
       "      <td>153</td>\n",
       "      <td>157</td>\n",
       "      <td>150</td>\n",
       "      <td>3700000</td>\n",
       "      <td>7</td>\n",
       "    </tr>\n",
       "    <tr>\n",
       "      <th>4</th>\n",
       "      <td>2024-06-05</td>\n",
       "      <td>151</td>\n",
       "      <td>154</td>\n",
       "      <td>148</td>\n",
       "      <td>3800000</td>\n",
       "      <td>6</td>\n",
       "    </tr>\n",
       "  </tbody>\n",
       "</table>\n",
       "</div>"
      ],
      "text/plain": [
       "         Date  Close  High  Low   Volume  diff\n",
       "0  2024-06-01    150   155  148  3500000     7\n",
       "1  2024-06-02    152   156  149  3200000     7\n",
       "2  2024-06-03    149   153  147  4000000     6\n",
       "3  2024-06-04    153   157  150  3700000     7\n",
       "4  2024-06-05    151   154  148  3800000     6"
      ]
     },
     "execution_count": 65,
     "metadata": {},
     "output_type": "execute_result"
    }
   ],
   "source": [
    "answer1"
   ]
  },
  {
   "cell_type": "code",
   "execution_count": null,
   "metadata": {},
   "outputs": [],
   "source": []
  }
 ],
 "metadata": {
  "colab": {
   "include_colab_link": true,
   "provenance": []
  },
  "kernelspec": {
   "display_name": "Python 3 (ipykernel)",
   "language": "python",
   "name": "python3"
  },
  "language_info": {
   "codemirror_mode": {
    "name": "ipython",
    "version": 3
   },
   "file_extension": ".py",
   "mimetype": "text/x-python",
   "name": "python",
   "nbconvert_exporter": "python",
   "pygments_lexer": "ipython3",
   "version": "3.12.7"
  }
 },
 "nbformat": 4,
 "nbformat_minor": 4
}
